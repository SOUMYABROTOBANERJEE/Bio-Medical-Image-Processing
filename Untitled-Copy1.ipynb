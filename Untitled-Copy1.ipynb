{
 "cells": [
  {
   "cell_type": "code",
   "execution_count": 1,
   "metadata": {},
   "outputs": [],
   "source": [
    "import cv2\n",
    "from PIL import Image\n",
    "import numpy as np\n",
    "from sklearn import decomposition\n",
    "import os"
   ]
  },
  {
   "cell_type": "code",
   "execution_count": 12,
   "metadata": {},
   "outputs": [],
   "source": [
    "def pcacomp(img1):\n",
    "    final_img=np.zeros((img1.shape[0],img1.shape[1],img1.shape[2]), np.uint8)\n",
    "    gray = cv2.cvtColor(img1, cv2.COLOR_BGR2GRAY)\n",
    "    eigvec=pca_comp(gray)\n",
    "    for i in range(img1.shape[2]):\n",
    "            img=img1[:,:,i]\n",
    "            final_img[:,:,i] = img*eigvec\n",
    "            \n",
    "            #result = cv2.addWeighted(img1,coeff1,img2,coeff2,-2)\n",
    "            \n",
    "            cv2.imshow('IMG1',final_img)\n",
    "            cv2.waitKey(0)\n",
    "            cv2.destroyAllWindows()\n",
    "            \n",
    "    return final_img\n",
    "\n",
    "def pca_comp(img_yo):\n",
    "    \n",
    "    estimator = decomposition.PCA(n_components=256, svd_solver='randomized', whiten=True)\n",
    "    estimator.fit(img_yo)\n",
    "        \n",
    "    return estimator.components_"
   ]
  },
  {
   "cell_type": "code",
   "execution_count": 61,
   "metadata": {},
   "outputs": [
    {
     "data": {
      "text/plain": [
       "['012 (1).gif',\n",
       " '012.gif',\n",
       " '027 (1).gif',\n",
       " '027.gif',\n",
       " '028 (1).gif',\n",
       " '028.gif',\n",
       " '029 (1).gif',\n",
       " '029.gif',\n",
       " '030 (1).gif',\n",
       " '030.gif',\n",
       " '031 (1).gif',\n",
       " '031.gif',\n",
       " '044 (1).gif',\n",
       " '044.gif',\n",
       " '045 (1).gif',\n",
       " '045.gif',\n",
       " '060 (1).gif',\n",
       " '060.gif']"
      ]
     },
     "execution_count": 61,
     "metadata": {},
     "output_type": "execute_result"
    }
   ],
   "source": [
    "i=os.getcwd()+\"\\\\Images\\\\\"\n",
    "os.listdir(i)"
   ]
  },
  {
   "cell_type": "code",
   "execution_count": 49,
   "metadata": {},
   "outputs": [],
   "source": [
    "number = 12\n",
    "path1=os.getcwd()+\"\\\\\"+str(number).zfill(3)+\".gif\"\n",
    "path2=os.getcwd()+\"\\\\\"+str(number).zfill(3)+ \" (1).gif\""
   ]
  },
  {
   "cell_type": "code",
   "execution_count": 50,
   "metadata": {},
   "outputs": [],
   "source": [
    "pil_image1 = Image.open(path1).convert('RGB') \n",
    "img1 = np.array(pil_image1) \n",
    "pil_image2 = Image.open(path2).convert('RGB') \n",
    "img2 = np.array(pil_image2) "
   ]
  },
  {
   "cell_type": "code",
   "execution_count": 44,
   "metadata": {},
   "outputs": [],
   "source": [
    "final_image = np.zeros((img1.shape[0],img1.shape[1],img1.shape[2]), np.uint8)"
   ]
  },
  {
   "cell_type": "code",
   "execution_count": 45,
   "metadata": {},
   "outputs": [],
   "source": [
    "final_image = pcacomp(img1)%255 + pcacomp(img2)%255\n",
    "cv2.imshow('IMG1',final_image)\n",
    "cv2.waitKey(0)\n",
    "cv2.destroyAllWindows()"
   ]
  },
  {
   "cell_type": "code",
   "execution_count": null,
   "metadata": {},
   "outputs": [],
   "source": [
    "final_image = \n",
    "cv2.imshow('IMG1',final_image)\n",
    "cv2.waitKey(0)\n",
    "cv2.destroyAllWindows()"
   ]
  },
  {
   "cell_type": "code",
   "execution_count": null,
   "metadata": {},
   "outputs": [],
   "source": [
    "########################################################################################"
   ]
  },
  {
   "cell_type": "code",
   "execution_count": null,
   "metadata": {},
   "outputs": [],
   "source": [
    "########################################################################################"
   ]
  },
  {
   "cell_type": "code",
   "execution_count": 51,
   "metadata": {},
   "outputs": [],
   "source": [
    "pca = decomposition.PCA(n_components=100)\n",
    "p1 = pca.fit_transform(cv2.cvtColor(img1, cv2.COLOR_BGR2GRAY))\n",
    "a1=pca.explained_variance_ratio_\n",
    "a1=a1.reshape(a1.shape[0],1)"
   ]
  },
  {
   "cell_type": "code",
   "execution_count": null,
   "metadata": {},
   "outputs": [],
   "source": []
  },
  {
   "cell_type": "code",
   "execution_count": 52,
   "metadata": {},
   "outputs": [],
   "source": [
    "p2 = pca.fit_transform(cv2.cvtColor(img2, cv2.COLOR_BGR2GRAY))\n",
    "a2=pca.explained_variance_ratio_\n",
    "a2=a2.reshape(a2.shape[0],1)"
   ]
  },
  {
   "cell_type": "code",
   "execution_count": 53,
   "metadata": {},
   "outputs": [
    {
     "name": "stdout",
     "output_type": "stream",
     "text": [
      "[0.35106865]\n",
      "[0.63860253]\n"
     ]
    }
   ],
   "source": [
    "#coeff1=max(pcacomp(img1)[0])/3\n",
    "print(max(a1))\n",
    "#coeff2=max(pcacomp(img2)[0])/3\n",
    "print(max(a2))"
   ]
  },
  {
   "cell_type": "code",
   "execution_count": null,
   "metadata": {},
   "outputs": [],
   "source": []
  },
  {
   "cell_type": "code",
   "execution_count": 54,
   "metadata": {},
   "outputs": [],
   "source": [
    "result = cv2.addWeighted(img1,max(a1),img2,max(a2),0)\n",
    "cv2.imshow('IMG1',img1)\n",
    "cv2.imshow('IMG2',img2)\n",
    "cv2.imshow('Result',result)\n",
    "cv2.waitKey(0)\n",
    "cv2.destroyAllWindows()"
   ]
  },
  {
   "cell_type": "code",
   "execution_count": null,
   "metadata": {},
   "outputs": [],
   "source": [
    "outpath=os.getcwd()+\"\\\\Output\\\\\"\n",
    "cv2.imwrite(outpath+str(number).zfill(3)+\"_Coeff_\" +str(max(a1))+str(max(a2))+\".jpg\", result)"
   ]
  },
  {
   "cell_type": "code",
   "execution_count": null,
   "metadata": {},
   "outputs": [],
   "source": [
    "###################################################################################################"
   ]
  },
  {
   "cell_type": "code",
   "execution_count": null,
   "metadata": {},
   "outputs": [],
   "source": [
    "###################################################################################################"
   ]
  },
  {
   "cell_type": "code",
   "execution_count": 55,
   "metadata": {},
   "outputs": [],
   "source": [
    "result = cv2.addWeighted(img1,0.5,img2,0.5,0)\n",
    "cv2.imshow('IMG1',img1)\n",
    "cv2.imshow('IMG2',img2)\n",
    "cv2.imshow('Result',result)\n",
    "cv2.waitKey(0)\n",
    "cv2.destroyAllWindows()"
   ]
  },
  {
   "cell_type": "code",
   "execution_count": null,
   "metadata": {},
   "outputs": [],
   "source": []
  }
 ],
 "metadata": {
  "kernelspec": {
   "display_name": "Python 3",
   "language": "python",
   "name": "python3"
  },
  "language_info": {
   "codemirror_mode": {
    "name": "ipython",
    "version": 3
   },
   "file_extension": ".py",
   "mimetype": "text/x-python",
   "name": "python",
   "nbconvert_exporter": "python",
   "pygments_lexer": "ipython3",
   "version": "3.7.3"
  }
 },
 "nbformat": 4,
 "nbformat_minor": 2
}
