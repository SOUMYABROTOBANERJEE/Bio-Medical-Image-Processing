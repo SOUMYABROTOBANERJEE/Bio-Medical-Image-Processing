{
 "cells": [
  {
   "cell_type": "code",
   "execution_count": 1,
   "metadata": {},
   "outputs": [],
   "source": [
    "import cv2\n",
    "from PIL import Image\n",
    "import numpy as np"
   ]
  },
  {
   "cell_type": "code",
   "execution_count": 2,
   "metadata": {},
   "outputs": [],
   "source": [
    "def pcacomp(img1):\n",
    "    dictout=[]\n",
    "    from sklearn.decomposition import PCA\n",
    "    for i in range(3):\n",
    "        img=img1[:,:,i]\n",
    "        #shape=\n",
    "        #img_r1 = img1.reshape((shape[0]*shape[1]*shape[2]))\n",
    "        pca = PCA(n_components=50)\n",
    "        if(i==0):\n",
    "            principalComponents = pca.fit_transform(img)\n",
    "        else:\n",
    "            principalComponents = pca.fit_transform(img)\n",
    "        dictout.append(pca.explained_variance_)\n",
    "        return dictout"
   ]
  },
  {
   "cell_type": "code",
   "execution_count": 3,
   "metadata": {},
   "outputs": [],
   "source": [
    "number = 29\n",
    "path1=\"C:\\\\Users\\\\soumy\\\\Desktop\\\\Biomedical Image\\\\\"+str(number).zfill(3)+\".gif\"\n",
    "path2=\"C:\\\\Users\\\\soumy\\\\Desktop\\\\Biomedical Image\\\\\"+str(number).zfill(3)+ \" (1).gif\""
   ]
  },
  {
   "cell_type": "code",
   "execution_count": 4,
   "metadata": {},
   "outputs": [],
   "source": [
    "pil_image1 = Image.open(path1).convert('RGB') \n",
    "img1 = np.array(pil_image1) \n",
    "pil_image2 = Image.open(path2).convert('RGB') \n",
    "img2 = np.array(pil_image2) "
   ]
  },
  {
   "cell_type": "code",
   "execution_count": 5,
   "metadata": {},
   "outputs": [],
   "source": [
    "gray1 = np.array(pil_image1.convert('L'))\n",
    "gray2 = np.array(pil_image2.convert('L'))"
   ]
  },
  {
   "cell_type": "code",
   "execution_count": 7,
   "metadata": {},
   "outputs": [],
   "source": [
    "from sklearn.decomposition import PCA\n",
    "pca = PCA(n_components=50)\n",
    "p1 = pca.fit_transform(gray1)\n",
    "coeff1=max(pca.explained_variance_)\n",
    "coeff1=coeff1/(10**(len(str(int(coeff1)))))"
   ]
  },
  {
   "cell_type": "code",
   "execution_count": 19,
   "metadata": {},
   "outputs": [],
   "source": []
  },
  {
   "cell_type": "code",
   "execution_count": 20,
   "metadata": {},
   "outputs": [],
   "source": [
    "p2 = pca.fit_transform(gray2)\n",
    "coeff2=max(pca.explained_variance_)\n",
    "coeff2=coeff2/(10**(len(str(int(coeff2)))))"
   ]
  },
  {
   "cell_type": "code",
   "execution_count": null,
   "metadata": {},
   "outputs": [],
   "source": []
  },
  {
   "cell_type": "code",
   "execution_count": 21,
   "metadata": {},
   "outputs": [
    {
     "name": "stdout",
     "output_type": "stream",
     "text": [
      "0.37812554987888364\n",
      "0.5659476069710556\n"
     ]
    }
   ],
   "source": [
    "#coeff1=max(pcacomp(img1)[0])/3\n",
    "print(coeff1)\n",
    "#coeff2=max(pcacomp(img2)[0])/3\n",
    "print(coeff2)"
   ]
  },
  {
   "cell_type": "code",
   "execution_count": null,
   "metadata": {},
   "outputs": [],
   "source": []
  },
  {
   "cell_type": "code",
   "execution_count": 22,
   "metadata": {},
   "outputs": [],
   "source": [
    "result = cv2.addWeighted(img1,coeff1,img2,coeff2,1)\n",
    "cv2.imshow('IMG1',img1)\n",
    "cv2.imshow('IMG2',img2)\n",
    "cv2.imshow('Result',result)\n",
    "cv2.waitKey(0)\n",
    "cv2.destroyAllWindows()"
   ]
  },
  {
   "cell_type": "code",
   "execution_count": null,
   "metadata": {},
   "outputs": [],
   "source": [
    "outpath=\"C:\\\\Users\\\\soumy\\\\Desktop\\\\Biomedical Image\\\\Output\\\\\"\n",
    "cv2.imwrite(outpath+str(number).zfill(3)+\"_Coeff_\" +str(coeff1)+str(coeff2)+\".jpg\", result)"
   ]
  },
  {
   "cell_type": "code",
   "execution_count": null,
   "metadata": {},
   "outputs": [],
   "source": []
  },
  {
   "cell_type": "code",
   "execution_count": null,
   "metadata": {},
   "outputs": [],
   "source": []
  },
  {
   "cell_type": "code",
   "execution_count": null,
   "metadata": {},
   "outputs": [],
   "source": []
  }
 ],
 "metadata": {
  "kernelspec": {
   "display_name": "Python 3",
   "language": "python",
   "name": "python3"
  },
  "language_info": {
   "codemirror_mode": {
    "name": "ipython",
    "version": 3
   },
   "file_extension": ".py",
   "mimetype": "text/x-python",
   "name": "python",
   "nbconvert_exporter": "python",
   "pygments_lexer": "ipython3",
   "version": "3.7.3"
  }
 },
 "nbformat": 4,
 "nbformat_minor": 2
}
